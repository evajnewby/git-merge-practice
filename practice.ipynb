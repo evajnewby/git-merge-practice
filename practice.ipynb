{
  "cells": [
    {
      "cell_type": "markdown",
      "metadata": {},
      "source": [
        "# Testing merge conflicts\n",
        "\n",
        "Start by importing the required packages:\n"
      ],
      "id": "c094c1cb"
    },
    {
      "cell_type": "code",
      "metadata": {},
      "source": [
        "import pandas as pd"
      ],
      "id": "965f18c1",
      "execution_count": null,
      "outputs": []
    },
    {
      "cell_type": "markdown",
      "metadata": {},
      "source": [
        "Let's create a sample dataset to work with:\n"
      ],
      "id": "a0550805"
    },
    {
      "cell_type": "code",
      "metadata": {},
      "source": [
        "# Create Star Wars DataFrame\n",
        "star_wars_df = pd.DataFrame({\n",
        "    \"name\": [\"Luke Skywalker\", \"Darth Vader\", \"Leia Organa\", \"Han Solo\", \"Yoda\", \"Chewbacca\"],\n",
        "    \"height\": [172, 202, 150, 180, 66, 228],\n",
        "    \"mass\": [77, 136, 49, 80, 17, 112],\n",
        "    \"species\": [\"Human\", \"Human\", \"Human\", \"Human\", \"Yoda's species\", \"Wookiee\"]\n",
        "})\n",
        "star_wars_df"
      ],
      "id": "a45ea15e",
      "execution_count": null,
      "outputs": []
    },
    {
      "cell_type": "markdown",
      "metadata": {},
      "source": [
        "And do something with it:\n"
      ],
      "id": "e77506b1"
    },
    {
      "cell_type": "code",
      "metadata": {},
      "source": [
        "# Your code goes here"
      ],
      "id": "67852972",
      "execution_count": null,
      "outputs": []
    }
  ],
  "metadata": {
    "kernelspec": {
      "display_name": "Python 3",
      "language": "python",
      "name": "python3"
    }
  },
  "nbformat": 4,
  "nbformat_minor": 5
}